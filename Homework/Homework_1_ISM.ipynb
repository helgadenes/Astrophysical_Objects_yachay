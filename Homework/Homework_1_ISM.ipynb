{
 "cells": [
  {
   "cell_type": "markdown",
   "id": "ce3b50d5",
   "metadata": {},
   "source": [
    "# Homework 1: Interstellar Medium\n",
    "\n",
    "The homework should be submitted as a python notebook. \n",
    "\n",
    "Please email the homework to hdenes@yachaytech.edu.ec by the <b>end of the day (midnight) by the 6th of October.</b>\n",
    "\n",
    "Total points: 20\n",
    "\n",
    "Please let me know if you have any questions. \n",
    "\n",
    "<b>Important notes: </b> \n",
    "- The tutorial notebooks contain the methods that you can use to solve the homework. \n",
    "- If you have problems with some of the specific astrophysics packages, make sure to check the versions. Not all versions of the packages are compatible with each other. In particular astroquery has problems with some versions of astropy. This is a combination of the two packages that should work together:\n",
    "    - astroquery==0.4.6\n",
    "    - astropy==5.1.1\n",
    "- Also check the package requirements for GaussPy+ \n",
    "- I have the following version of python and python packes, GaussPy+ should work with these:\n",
    "    - python 3.8.8\n",
    "    - astropy  5.1.1\n",
    "    - lmfit    1.2.2\n",
    "    - matplotlib    3.3.4\n",
    "    - networkx   2.5 \n",
    "    - numpy    1.20.1 \n",
    "    - scipy    1.6.2 \n",
    "    - tqdm      4.59.0 \n",
    "    - gsl    0.0.3 "
   ]
  },
  {
   "cell_type": "markdown",
   "id": "9e28884b",
   "metadata": {},
   "source": [
    "## 1. (12 points) Analysis of interstellar gas components using Gaussian decomposition\n",
    "\n",
    "This problem analyses the properties of a neutral hydrogen (HI) cloud in the Small Magellanic Cloud (SMC). The data was taken with the ASKAP telescope and is a subset of the data presented in Pingel et al. 2022 (https://doi.org/10.1017/pasa.2021.59).\n",
    "\n",
    "1. Read in the data from the \"cloud_sub_cube.fits\" file (In the Homework/data directory). What are the dimensions of the data cube?\n",
    "2. Make a declination vs. velocity plot. How many distinct features can you see in the plot? \n",
    "3. Make a spectrum of the whole cube (velocity vs intensity summed for all spatial pixels). Can you identify the same features (lines) as in the declination vs. velocity plot? Do you see any differences? \n",
    "4. Make a moment 0 map (inegrated intensity map) of the following velocity range: 96 - 113 km/s. \n",
    "- For this, make an array of the relevant velocity range by calculating the values for the velocity axis in km/s. \n",
    "- Use numpy.where() to find the indecies for the relevant velocity range, \n",
    "- then use indecies to select the relevant part of the data cube. \n",
    "- Once you have the sub-array, calculate the integrated intensity for each pixel and make a plot. \n",
    "\n",
    "What kind of structure do you see?\n",
    "\n",
    "5. Decompose the full data cube with GaussPy+ (https://github.com/mriener/gausspyplus). \n",
    "- For the decomposition you can use the following $\\alpha _1 = 1.59$ and $\\alpha _2 = 5.9$ parameters. \n",
    "- You should update the \"step_4-decompose--grs.py\" file with these number. \n",
    "- <b> Note: I do not recommend to run the sections: \"1. Create a training set from the data\" and \"2. Find the optimal values for the smoothing parameters $\\alpha_1$ and $\\alpha_2$\". These are computationally intensive and can take a long time. </b>\n",
    "\n",
    "6. Based on the $\\chi^2$ map, did the decomposition perform well? How many components did Gausspy find on average?\n",
    "7. Make histograms of the decomposition results for $v_{LSR}$ , FWHM (full width at half max), and amplitude. What can you conclude about the structure of the interstellar gas based on the histograms?\n",
    "8. Make a scatter plot of $v_{LSR}$ vs. FWHM. How many distinct features do you see? \n",
    "9. Make a map of the Gaussian components with $ 96 < v_{LSR} < 113$ km/s.\n",
    "10. Make a plot of the spectrum with the Gaussian components for the following pixels: x: 110, y:100; x:55, y:50; x:160, y:160. Does the spectra show the same features at these 3 different positions?\n"
   ]
  },
  {
   "cell_type": "markdown",
   "id": "d753715b",
   "metadata": {},
   "source": [
    "## 2. (6 points) Comparing Dust maps to atomic hydrogen column density\n",
    "\n",
    "The aim of this problem is to compare the interstellar dust extinction to the neutral hydrogen column density of the same region in the sky.\n",
    "\n",
    "1. Make a map of dust extinction ($A_v$) using the dustmaps python package (https://dustmaps.readthedocs.io/en/latest/) for the following region: R.A: 73.0$^{\\circ}$ Dec: 3.0$^{\\circ}$. Select the region so that it has a width of 10$^{\\circ}$ x 10$^{\\circ}$. Use data from the \"Bayestar\" dust map (Green et al. 2019 https://doi.org/10.3847/1538-4357/ab5362). \n",
    "2. Get the neutral atomic hydrogen column density N(HI) map for the same region of the sky. For this you can use the astroquery python package and select the 'HI4PI' survey. Make sure to select the same region with the same pixel size. \n",
    "3. Make an overlay of the two data sets. Plot N(HI) as the contours. \n",
    "4. Make histograms of $A_v$ and N(HI). Compare the two distributions. What do you notice about the two distributions?\n",
    "5. Make a plot of $A_v$ vs. N(HI). Fit a linear relation to the data. How does the fit compare to the relation found in Güver and Özel 2009 (https://doi.org/10.1111/j.1365-2966.2009.15598.x): N(HI) = $A_v \\times 2.2 \\times 10^{21}$?\n",
    "6. What do you think is the reason for the differences between your fit and the results of Güver and Özel 2009?"
   ]
  },
  {
   "cell_type": "code",
   "execution_count": null,
   "id": "0b642bb3",
   "metadata": {},
   "outputs": [],
   "source": []
  },
  {
   "cell_type": "code",
   "execution_count": null,
   "id": "0e11a808",
   "metadata": {},
   "outputs": [],
   "source": []
  }
 ],
 "metadata": {
  "kernelspec": {
   "display_name": "Python 3 (ipykernel)",
   "language": "python",
   "name": "python3"
  },
  "language_info": {
   "codemirror_mode": {
    "name": "ipython",
    "version": 3
   },
   "file_extension": ".py",
   "mimetype": "text/x-python",
   "name": "python",
   "nbconvert_exporter": "python",
   "pygments_lexer": "ipython3",
   "version": "3.8.8"
  }
 },
 "nbformat": 4,
 "nbformat_minor": 5
}
