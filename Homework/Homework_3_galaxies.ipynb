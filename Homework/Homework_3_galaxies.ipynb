{
 "cells": [
  {
   "cell_type": "markdown",
   "id": "94c0f3a4",
   "metadata": {},
   "source": [
    "# Homework 3: Star formation in galaxies\n",
    "\n",
    "The homework should be submitted as a python notebook. Make all the plots in the python notebook.\n",
    "\n",
    "Please email the homework to hdenes@yachaytech.edu.ec by the <b>end of the day (midnight) by the 15th of December.</b>\n",
    "\n",
    "Total points: 20\n",
    "\n",
    "Please let me know if you have any questions. \n",
    "\n",
    "<b>Important notes: </b> \n",
    "- The tutorial notebooks contain the methods that you can use to solve the homework. \n",
    "- If you have problems with some of the specific astrophysics packages, make sure to check the versions. Not all versions of the packages are compatible with each other. "
   ]
  },
  {
   "cell_type": "markdown",
   "id": "35681d50",
   "metadata": {},
   "source": [
    "## (20 points) Analysing star formation properties of galaxies \n",
    "\n",
    "First dwonload the relevant data from the Sloan DIgital Sky Survey (SDSS) data base. The code for this is provided. In the cell below.  \n",
    "\n",
    "- The SpecObj table contains basic information about the observation and the object, such as the redshift. \n",
    "- The galaxy table provides useful photometric measurements for colors and images. \n",
    "- The three GalSpec table each give products derived from spectroscopy. \n",
    "\n",
    "The H$\\alpha$ emission line is a convienient indicator of the star formation rate. \n",
    "\n",
    "We want galaxies with quality measurements of this line strength, so a S/N restriction is specified. We also want the H$\\beta$ emission line, because as we will see below, this will assist us in accounting for dust absorption along our line of sight."
   ]
  },
  {
   "cell_type": "code",
   "execution_count": null,
   "id": "04f919c5",
   "metadata": {},
   "outputs": [],
   "source": [
    "# Import relevant libraries\n",
    "\n",
    "import pandas as pd # data analysis \n",
    "import numpy as np # more data analysis\n",
    "\n",
    "from matplotlib import pyplot as plt # another plotting library\n",
    "from matplotlib.image import imread\n",
    "\n",
    "from astropy.constants import c # useful constants\n",
    "from astropy import units as u # useful for unit conversions\n",
    "from astropy import coordinates as coords\n",
    "from astropy.coordinates import SkyCoord\n",
    "from astropy.io import fits\n",
    "from astropy.io import ascii\n",
    "\n",
    "from astroquery.sdss import SDSS\n",
    "from astroquery.simbad import Simbad\n",
    "\n",
    "# Python standard-libraries to download data from the web\n",
    "from urllib.parse import urlencode\n",
    "from urllib.request import urlretrieve\n",
    "\n",
    "#only here to display images\n",
    "from IPython.display import Image"
   ]
  },
  {
   "cell_type": "code",
   "execution_count": null,
   "id": "d3df258f",
   "metadata": {},
   "outputs": [],
   "source": [
    "# Create a query to fetch star forming galaxies\n",
    "\n",
    "query = 'SELECT TOP 10000 s.plate, s.fiberid, s.mjd, s.ra, s.dec, s.z, s.zwarning, '\n",
    "query += 'g.h_beta_flux, g.h_alpha_flux, '\n",
    "query += 'g.h_beta_flux_err, g.h_alpha_flux_err, '\n",
    "query += 'e.bptclass, e.lgm_tot_p50, '\n",
    "query += 'i.lick_hd_a_sub, i.d4000_n_sub, '\n",
    "query += 'i.lick_hd_a_sub_err, i.d4000_n_sub_err, '\n",
    "query += 'p.petror90_r '\n",
    "query += 'FROM GalSpecLine AS g, SpecObj AS s, GalSpecExtra AS e, GalSpecIndx AS i, galaxy AS p ' \n",
    "query += 'WHERE '\n",
    "query += 's.specobjid = g.specobjid '\n",
    "query += 'AND s.specobjid = e.specobjid '\n",
    "query += 'AND s.specobjid = i.specobjid '\n",
    "query += 'AND s.bestobjid = p.objid '\n",
    "query += 'AND bptclass = 1 '\n",
    "query += 'AND s.z BETWEEN 0.04 and 0.1 '#-- Lower limit needed for global parameters w/ small aperture\n",
    "query += 'AND h_alpha_flux > h_alpha_flux_err*5.0 ' #-- Make sure Balmer lines have adequate S/N\n",
    "query += 'AND h_beta_flux > h_beta_flux_err*5.0 '\n",
    "query += 'AND d4000_n_sub > d4000_n_sub_err*5.0 '\n",
    "query += 'AND h_alpha_flux_err > 0 ' #-- Consistency check\n",
    "query += 'AND h_beta_flux_err > 0 '\n",
    "query += 'AND h_alpha_flux > 2.7*h_beta_flux ' #-- Ensures proper continuum subtraction\n",
    "query += 'AND lgm_tot_p50 > 0 '\n",
    "query += 'AND sigma_balmer < 509.55 ' #-- Exclude the broad line emitting galaxies\n",
    "query += 'AND s.class = \\'GALAXY\\' '  #-- Looking for galaxies, not stars\n",
    "query += 'AND s.zwarning = 0 '\n",
    "#print (query) # useful for debugging, remove first # to uncomment\n",
    "\n",
    "# send query to SDSS\n",
    "gals = SDSS.query_sql(query,data_release=16)\n",
    "\n",
    "gals"
   ]
  },
  {
   "cell_type": "markdown",
   "id": "f8a21673",
   "metadata": {},
   "source": [
    "### Dereddening the Spectrum\n",
    "\n",
    "In order to determine the star formation rate (SFR) in each galaxy, we need to get the H $\\alpha$ luminosity L(H$\\alpha$) emitted from each galaxy. The SQL query gives us the observed flux F(H$\\alpha$), but this doesn’t account for dust absorbing some of this light as it travels from a galaxy to the point of observation. Fortunately, we can correct for this “extinction” by making use of the fact that dust preferentially absorbs shorter wavelength light to “deredden” the spectrum. In ideal conditions without dust, we can assume that \n",
    "F(H$\\alpha$)/F(H$\\beta$) = 2.86 in star forming regions. Let’s deredden the H$\\alpha$ flux."
   ]
  },
  {
   "cell_type": "code",
   "execution_count": null,
   "id": "f335d9c6",
   "metadata": {},
   "outputs": [],
   "source": [
    "# Deredden emission lines according to Calzetii+ 2000\n",
    "# wavelength supplied in angstroms\n",
    "\n",
    "def deredden(lum,wl,Hb,Ha):\n",
    "    if (wl >= 6300 and wl <= 22000):\n",
    "        wl = wl/1e4 # convert to microns\n",
    "        kwl = 2.659*(-1.857+1.040/wl)+4.05\n",
    "    elif (wl >= 1200 and wl < 6300):\n",
    "        wl = wl/1e4 # convert to microns\n",
    "        kwl = 2.659*(-2.156+1.509/wl-0.198/wl**2+0.011/wl**3)+4.05\n",
    "    else:\n",
    "        print ('Wavelength of range')\n",
    "    \n",
    "    # Using k-values calc as above\n",
    "    kHa = 3.326\n",
    "    kHb = 4.598\n",
    "    \n",
    "    ebmv = 2.5/(kHb-kHa)*np.log10(Ha/Hb/2.86) # 2.86 for SF; 3.1 for AGN\n",
    "    lum_dr = lum*10**(0.4*kwl*ebmv)\n",
    "    \n",
    "    return lum_dr\n",
    "\n",
    "####\n",
    "\n",
    "Halpha_flux = gals['h_alpha_flux']\n",
    "Hbeta_flux = gals['h_beta_flux']\n",
    "\n",
    "Halpha_flux_dr = deredden(Halpha_flux,6563,Hbeta_flux,Halpha_flux)"
   ]
  },
  {
   "cell_type": "markdown",
   "id": "cf4b6623",
   "metadata": {},
   "source": [
    "According to the GalSpecLine table, the line flux is returned as 10$^{-17}$ erg/s/cm$^2$, so we first need to multiply our dereddened F(H) by 10$^{-17}$ to get actual flux value. Luminosity has units of energy / second, and an erg is a unit of energy. \n",
    "\n",
    "1) Calcualte the distance to the galaxies in the sample in cm. Make sure to clarify which hubble constant you are using. \n",
    "\n",
    "2) Convert the H$\\alpha$ flux into H$\\alpha$ luminosity.\n",
    "\n",
    "Hint, the relavant relations are covered in the lecture slides. Astropy also has functions that are very helpful for calculating distances. "
   ]
  },
  {
   "cell_type": "markdown",
   "id": "7dfb7983",
   "metadata": {},
   "source": [
    "We can now use the L(H$\\alpha$) to determine the SFR in units of M$_{\\odot}$/yr using the conversion from Kennicutt+ 1998.\n",
    "\n",
    "$$\\frac{SFR}{M_{\\odot} yr^{-1}} = \\frac{L(H\\alpha)}{1.26 \\times 10^{41} ergs \\ s^{-1}}$$"
   ]
  },
  {
   "cell_type": "markdown",
   "id": "d2c45171",
   "metadata": {},
   "source": [
    "3) Calcualte the star formation rate as $log_{10}(SFR)$. Make a histogram of $log_{10}(SFR)$. How is the distribution of the star formation rate?  "
   ]
  },
  {
   "cell_type": "markdown",
   "id": "9a3ef034",
   "metadata": {},
   "source": [
    "### The Star Forming Main Sequence\n",
    "\n",
    "A common measure of galaxy mass is its stellar mass M$_{\\star}$ in units of M$_{\\odot}$, however a galaxy’s mass can be defined in many ways. We can roughly envision that M$_{\\star}$ is proxy for galaxy size since larger galaxies typically contain more stars.\n",
    "\n",
    "4) Make a plot of $log_{10}(SFR)$ vs $log_{10}(M_{\\star})$. We have $log_{10}(M_{\\star})$ provided in the SDSS data as: gals['lgm_tot_p50']. Plot $log_{10}(M_{\\star})$ on the x-axis.\n",
    "\n",
    "Based on the plot, how does the SFR correlate with M$_{\\star}$?\n",
    "\n",
    "The expected correlation is the following: \n",
    "\n",
    "$$log_{10}(SFR) = log_{10}M_{\\star} \\times 1.292 - 12.31$$\n",
    "\n",
    "5) Make the same plot $log_{10}(SFR)$ vs $log_{10}(M_{\\star})$ adding the expected correlation. What can you conclude form this plot? Are there many galaxies that are above the correlation?  "
   ]
  },
  {
   "cell_type": "markdown",
   "id": "f0068074",
   "metadata": {},
   "source": [
    "6) What kind of galaxies are the ones with high star formation rates? Are these spirals or ellipticals? Do these galaxies look blue or red? To answere this, download a sample of images for 16 galaxies for which $log_{10}(SFR)$ is between -0.05 and 0.05. You can use the code below to get the image cutouts. "
   ]
  },
  {
   "cell_type": "code",
   "execution_count": null,
   "id": "9a517c53",
   "metadata": {},
   "outputs": [],
   "source": [
    "#\n",
    "# Function to display images\n",
    "#\n",
    "def get_images(gal_array,description):\n",
    "    # set thumbnail parameters\n",
    "    width=200           # image width\n",
    "    height=200          # height\n",
    "    pixelsize=0.396     # image scale\n",
    "    plt.figure(figsize=(15, 15))   # display in a 4x4 grid\n",
    "    subPlotNum = 1\n",
    "\n",
    "    i = 0\n",
    "    new_gals = gal_array\n",
    "    nGalaxies = len(new_gals)\n",
    "    for index in range(0,nGalaxies):           # iterate through rows in the DataFrame\n",
    "        i = i + 1\n",
    "        if i<17:\n",
    "            print('Getting image of '+description+str(i)+' of '+str(nGalaxies)+'...')\n",
    "            if (i == nGalaxies):\n",
    "                print('Plotting images...')\n",
    "            scale=2.0*new_gals['petror90_r']/pixelsize/width\n",
    "            \n",
    "            pos = coords.SkyCoord(new_gals['ra'][index], new_gals['dec'][index], unit=u.deg, frame='icrs')\n",
    "            \n",
    "            cutoutbaseurl = 'http://skyservice.pha.jhu.edu/DR12/ImgCutout/getjpeg.aspx'\n",
    "            query_string = urlencode(dict(ra=new_gals['ra'][index], dec=new_gals['dec'][index],width=width, height=height, scale=scale[i]))\n",
    "            url = cutoutbaseurl + '?' + query_string\n",
    "\n",
    "            # this downloads the image\n",
    "            image_name = 'cutout_'+str(index)+'.jpg'\n",
    "            urlretrieve(url, image_name)\n",
    "\n",
    "            # Display the image\n",
    "            img = imread(image_name)\n",
    "\n",
    "            plt.subplot(4,4,subPlotNum)\n",
    "            subPlotNum += 1\n",
    "            plt.imshow(img)                               # show images in grid\n",
    "            plt.title(index)                              # show the object identifier (objId) above the image.\n",
    "\n",
    "######\n"
   ]
  },
  {
   "cell_type": "markdown",
   "id": "7d6afc0e",
   "metadata": {},
   "source": [
    "7)  What kind of galaxies are the ones with low star formation rates? Are these spirals or ellipticals? Do these galaxies look blue or red? To answere this, download a sample of images for 16 galaxies for which $log_{10}(SFR)$ is between -1.55 and -1.45. You can use the code below to get the image cutouts. \n"
   ]
  },
  {
   "cell_type": "markdown",
   "id": "6c212b1d",
   "metadata": {},
   "source": [
    "Galaxies can deviate from the Main Sequence (the line that we plotted) on the SFR-M$_{\\star}$ diagram. At a given M$_{\\star}$, <b>starburst galaxies have 10x the SFR of the Main Sequence galaxies,</b> while <b>quiescent galaxies have a 0.01x the SFR of the Main Sequence galaxies</b>. \n",
    "\n",
    "8) Use these definitions to add two more lines to the $log_{10}(SFR)$ vs $log_{10}(M_{\\star})$ plot denoting the location of starbursts and quiescent galaxies."
   ]
  },
  {
   "cell_type": "markdown",
   "id": "1aebf6a2",
   "metadata": {},
   "source": [
    "### The specific star formation rate\n",
    "\n",
    "It becomes evident from this plot that when we want to identify a highly star forming galaxy, the metric we’re usually after is the specific star formation rate sSFR. It is defined as\n",
    "\n",
    "$$sSFR = \\frac{SFR}{M_{\\star}}$$ \n",
    "\n",
    "and represents ratio of current star formation to past star formation, or the growth rate of stellar mass in a galaxy. We can add the sSFR to our dataframe to explore the metric in detail.\n",
    "\n",
    "9) Calcualte the $log_{10}(sSFR)$ and make a histogram of $log_{10}(sSFR)$. Does this histogram look similar to the $log_{10}(SFR)$ histogram? "
   ]
  },
  {
   "cell_type": "markdown",
   "id": "e55c2243",
   "metadata": {},
   "source": [
    "10) Get images of galaxies with high sSFR ($log_{10}$(sSFR) > -10) and low sSFR ($log_{10}$(sSFR) < 11.5). These are starburst galaxies and quiescent galaxies. Do these galaxies look the same as the high and low SFR galaxies? Do you see any differences? \n",
    "\n",
    "Note: If for some reason there are no galaxies in the given $log_{10}$(sSFR) ranges, then select galaxies from the two ends of the distribution. "
   ]
  },
  {
   "cell_type": "code",
   "execution_count": null,
   "id": "a54f705e",
   "metadata": {},
   "outputs": [],
   "source": []
  }
 ],
 "metadata": {
  "kernelspec": {
   "display_name": "Python 3 (ipykernel)",
   "language": "python",
   "name": "python3"
  },
  "language_info": {
   "codemirror_mode": {
    "name": "ipython",
    "version": 3
   },
   "file_extension": ".py",
   "mimetype": "text/x-python",
   "name": "python",
   "nbconvert_exporter": "python",
   "pygments_lexer": "ipython3",
   "version": "3.8.8"
  }
 },
 "nbformat": 4,
 "nbformat_minor": 5
}
